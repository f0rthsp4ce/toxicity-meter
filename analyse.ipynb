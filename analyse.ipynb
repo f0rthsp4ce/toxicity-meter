{
 "cells": [
  {
   "cell_type": "code",
   "execution_count": null,
   "metadata": {},
   "outputs": [],
   "source": [
    "import pandas as pd\n",
    "import numpy as np\n",
    "import json"
   ]
  },
  {
   "cell_type": "code",
   "execution_count": null,
   "metadata": {},
   "outputs": [],
   "source": [
    "SETTINGS = json.load(open(\"settings.json\"))\n",
    "FORCE_RECOMPUTE = False"
   ]
  },
  {
   "cell_type": "code",
   "execution_count": null,
   "metadata": {},
   "outputs": [],
   "source": [
    "chat0 = SETTINGS[\"download\"][\"from_chats\"][0]\n",
    "CHAT0 = pd.read_csv(f\"{chat0}.csv\", parse_dates=[\"date\"])\n",
    "CHAT0"
   ]
  },
  {
   "cell_type": "code",
   "execution_count": null,
   "metadata": {},
   "outputs": [],
   "source": [
    "from detoxify import Detoxify\n",
    "\n",
    "model1 = Detoxify(\"multilingual\", device=\"cuda\")"
   ]
  },
  {
   "cell_type": "code",
   "execution_count": null,
   "metadata": {},
   "outputs": [],
   "source": [
    "from transformers import pipeline\n",
    "\n",
    "model2 = pipeline(model=\"SkolkovoInstitute/russian_toxicity_classifier\", device=\"cuda\")"
   ]
  },
  {
   "cell_type": "code",
   "execution_count": null,
   "metadata": {},
   "outputs": [],
   "source": [
    "a = model1.predict([\"приветик\", \"как делишки?\"])\n",
    "b = model2([\"приветик\", \"как делишки?\"], return_all_scores=True)\n",
    "a, b"
   ]
  },
  {
   "cell_type": "code",
   "execution_count": null,
   "metadata": {},
   "outputs": [],
   "source": [
    "def model1_predict(x: pd.Series):\n",
    "    BATCH_SIZE = 32\n",
    "    scores = np.zeros((len(x),))\n",
    "    for i in range(0, len(x), BATCH_SIZE):\n",
    "        batch = list(x[i : i + BATCH_SIZE])\n",
    "        pred = model1.predict(list(batch))\n",
    "        batch_scores = np.mean(list(model1.predict(batch).values()), axis=0)\n",
    "        scores[i : i + BATCH_SIZE] = batch_scores\n",
    "    return scores\n",
    "\n",
    "\n",
    "model1_predict(pd.Series([\"приветик\", \"как делишки?\"]))"
   ]
  },
  {
   "cell_type": "code",
   "execution_count": null,
   "metadata": {},
   "outputs": [],
   "source": [
    "def model2_predict(x: pd.Series):\n",
    "    return [\n",
    "        next(row[\"score\"] for row in verdict if row[\"label\"] == \"toxic\")  # type: ignore\n",
    "        for verdict in model2(list(x), top_k=None, truncation=True)  # type: ignore\n",
    "    ]\n",
    "\n",
    "\n",
    "model2_predict(pd.Series([\"приветик\", \"как делишки?\"]))"
   ]
  },
  {
   "cell_type": "code",
   "execution_count": null,
   "metadata": {},
   "outputs": [],
   "source": [
    "import os\n",
    "\n",
    "if not os.path.exists(f\"{chat0}.parquet\") or FORCE_RECOMPUTE:\n",
    "    CHAT0[\"toxicity_1\"] = model1_predict(CHAT0[\"message\"])\n",
    "    CHAT0[\"toxicity_2\"] = model2_predict(CHAT0[\"message\"])\n",
    "    CHAT0.to_parquet(f\"{chat0}.parquet\")\n",
    "else:\n",
    "    CHAT0 = pd.read_parquet(f\"{chat0}.parquet\")"
   ]
  },
  {
   "cell_type": "code",
   "execution_count": null,
   "metadata": {},
   "outputs": [],
   "source": [
    "CHAT0"
   ]
  },
  {
   "cell_type": "code",
   "execution_count": null,
   "metadata": {},
   "outputs": [],
   "source": [
    "# group toxicity by day (take max)\n",
    "\n",
    "q = partial(np.quantile, q=0.9)\n",
    "\n",
    "by_day = CHAT0.groupby(CHAT0[\"date\"].dt.date)\n",
    "by_day.agg({\"toxicity_1\": \"max\", \"toxicity_2\": \"max\"}).plot()\n",
    "by_day.agg({\"toxicity_1\": q}).plot()"
   ]
  },
  {
   "cell_type": "code",
   "execution_count": null,
   "metadata": {},
   "outputs": [],
   "source": [
    "# group toxocity by from_id\n",
    "from functools import partial\n",
    "\n",
    "q90 = partial(np.percentile, q=99)\n",
    "\n",
    "by_from_id = CHAT0.groupby(\"from_id\")\n",
    "ax = (\n",
    "    by_from_id.agg({\"toxicity_1\": q90, \"toxicity_2\": q90})\n",
    "    .sort_values(\"toxicity_1\", ascending=False)\n",
    "    .plot.bar()\n",
    ")\n",
    "ax.set_xticklabels(\n",
    "    [\"King\", \"Queen\", \"Joker\"] + [\"███\" for _ in range(len(ax.get_xticks()) - 3)]\n",
    ")\n",
    "True"
   ]
  },
  {
   "cell_type": "code",
   "execution_count": null,
   "metadata": {},
   "outputs": [],
   "source": [
    "by_from_id.aggregate({\"toxicity_1\": \"mean\", \"toxicity_2\": \"mean\"}).sort_values(\n",
    "    \"toxicity_1\"\n",
    ")"
   ]
  }
 ],
 "metadata": {
  "language_info": {
   "name": "python"
  }
 },
 "nbformat": 4,
 "nbformat_minor": 2
}
